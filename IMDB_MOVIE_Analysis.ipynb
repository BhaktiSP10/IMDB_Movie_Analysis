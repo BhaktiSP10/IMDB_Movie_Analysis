{
 "cells": [
  {
   "cell_type": "code",
   "execution_count": 6,
   "id": "03a8da3e",
   "metadata": {},
   "outputs": [],
   "source": [
    "import pandas as pd\n",
    "dfRaw = pd.read_csv('imdb_top_1000.csv')"
   ]
  },
  {
   "cell_type": "code",
   "execution_count": 14,
   "id": "6e8bb15a",
   "metadata": {},
   "outputs": [
    {
     "name": "stdout",
     "output_type": "stream",
     "text": [
      "IMDB Dataset:\n",
      "\n",
      "                                         Poster_Link  \\\n",
      "0  https://m.media-amazon.com/images/M/MV5BMDFkYT...   \n",
      "1  https://m.media-amazon.com/images/M/MV5BM2MyNj...   \n",
      "2  https://m.media-amazon.com/images/M/MV5BMTMxNT...   \n",
      "3  https://m.media-amazon.com/images/M/MV5BMWMwMG...   \n",
      "4  https://m.media-amazon.com/images/M/MV5BMWU4N2...   \n",
      "\n",
      "               Series_Title Released_Year Certificate  Runtime  \\\n",
      "0  The Shawshank Redemption          1994           A  142 min   \n",
      "1             The Godfather          1972           A  175 min   \n",
      "2           The Dark Knight          2008          UA  152 min   \n",
      "3    The Godfather: Part II          1974           A  202 min   \n",
      "4              12 Angry Men          1957           U   96 min   \n",
      "\n",
      "                  Genre  IMDB_Rating  \\\n",
      "0                 Drama          9.3   \n",
      "1          Crime, Drama          9.2   \n",
      "2  Action, Crime, Drama          9.0   \n",
      "3          Crime, Drama          9.0   \n",
      "4          Crime, Drama          9.0   \n",
      "\n",
      "                                            Overview  Meta_score  \\\n",
      "0  Two imprisoned men bond over a number of years...        80.0   \n",
      "1  An organized crime dynasty's aging patriarch t...       100.0   \n",
      "2  When the menace known as the Joker wreaks havo...        84.0   \n",
      "3  The early life and career of Vito Corleone in ...        90.0   \n",
      "4  A jury holdout attempts to prevent a miscarria...        96.0   \n",
      "\n",
      "               Director           Star1           Star2          Star3  \\\n",
      "0        Frank Darabont     Tim Robbins  Morgan Freeman     Bob Gunton   \n",
      "1  Francis Ford Coppola   Marlon Brando       Al Pacino     James Caan   \n",
      "2     Christopher Nolan  Christian Bale    Heath Ledger  Aaron Eckhart   \n",
      "3  Francis Ford Coppola       Al Pacino  Robert De Niro  Robert Duvall   \n",
      "4          Sidney Lumet     Henry Fonda     Lee J. Cobb  Martin Balsam   \n",
      "\n",
      "            Star4  No_of_Votes        Gross  \n",
      "0  William Sadler      2343110   28,341,469  \n",
      "1    Diane Keaton      1620367  134,966,411  \n",
      "2   Michael Caine      2303232  534,858,444  \n",
      "3    Diane Keaton      1129952   57,300,000  \n",
      "4    John Fiedler       689845    4,360,000  \n",
      "IMDB DataFrame Columns:\n",
      "\n",
      "Index(['Poster_Link', 'Series_Title', 'Released_Year', 'Certificate',\n",
      "       'Runtime', 'Genre', 'IMDB_Rating', 'Overview', 'Meta_score', 'Director',\n",
      "       'Star1', 'Star2', 'Star3', 'Star4', 'No_of_Votes', 'Gross'],\n",
      "      dtype='object')\n",
      "IMDB DataFrame Statistics:\n",
      "\n",
      "       IMDB_Rating  Meta_score   No_of_Votes\n",
      "count  1000.000000  843.000000  1.000000e+03\n",
      "mean      7.949300   77.971530  2.736929e+05\n",
      "std       0.275491   12.376099  3.273727e+05\n",
      "min       7.600000   28.000000  2.508800e+04\n",
      "25%       7.700000   70.000000  5.552625e+04\n",
      "50%       7.900000   79.000000  1.385485e+05\n",
      "75%       8.100000   87.000000  3.741612e+05\n",
      "max       9.300000  100.000000  2.343110e+06\n"
     ]
    }
   ],
   "source": [
    "print(\"IMDB Dataset:\\n\")\n",
    "print(dfRaw.head())\n",
    "print(\"IMDB DataFrame Columns:\\n\")\n",
    "print(dfRaw.columns)\n",
    "print(\"IMDB DataFrame Statistics:\\n\")\n",
    "print(dfRaw.describe())"
   ]
  },
  {
   "cell_type": "code",
   "execution_count": 15,
   "id": "bb21e06b",
   "metadata": {},
   "outputs": [
    {
     "data": {
      "text/plain": [
       "Series_Title      object\n",
       "Released_Year     object\n",
       "Certificate       object\n",
       "Runtime           object\n",
       "Genre             object\n",
       "IMDB_Rating      float64\n",
       "Meta_score       float64\n",
       "Director          object\n",
       "Star1             object\n",
       "Star2             object\n",
       "Star3             object\n",
       "Star4             object\n",
       "No_of_Votes        int64\n",
       "Gross             object\n",
       "dtype: object"
      ]
     },
     "execution_count": 15,
     "metadata": {},
     "output_type": "execute_result"
    }
   ],
   "source": [
    "#Getting rid of redundant columns\n",
    "dfRaw = dfRaw.drop(columns=['Poster_Link', 'Overview'])\n",
    "dfRaw.dtypes"
   ]
  },
  {
   "cell_type": "code",
   "execution_count": 16,
   "id": "163bb1a8",
   "metadata": {},
   "outputs": [
    {
     "data": {
      "text/plain": [
       "Series_Title      object\n",
       "Released_Year      int32\n",
       "Certificate       object\n",
       "Runtime            int32\n",
       "Genre             object\n",
       "IMDB_Rating      float64\n",
       "Meta_score       float64\n",
       "Director          object\n",
       "Star1             object\n",
       "Star2             object\n",
       "Star3             object\n",
       "Star4             object\n",
       "No_of_Votes        int64\n",
       "Gross             object\n",
       "dtype: object"
      ]
     },
     "execution_count": 16,
     "metadata": {},
     "output_type": "execute_result"
    }
   ],
   "source": [
    "#Converting dataypes of certain columns for easy use\n",
    "dfRaw['Runtime'] = dfRaw['Runtime'].str.split(' ').str.get(0)\n",
    "dfRaw['Runtime'] = dfRaw['Runtime'].astype(int)\n",
    "\n",
    "dfRaw = dfRaw[dfRaw['Released_Year'].str.isnumeric()]\n",
    "dfRaw['Released_Year'] = dfRaw['Released_Year'].astype(int)\n",
    "\n",
    "dfRaw.dtypes"
   ]
  },
  {
   "cell_type": "code",
   "execution_count": 17,
   "id": "40f65988",
   "metadata": {},
   "outputs": [
    {
     "data": {
      "text/plain": [
       "Index(['name', 'release_y', 'certificate', 'run_time', 'genre', 'imdb_rat',\n",
       "       'meta_sco', 'director', 'star_1', 'star_2', 'star_3', 'star_4',\n",
       "       'num_votes', 'gross'],\n",
       "      dtype='object')"
      ]
     },
     "execution_count": 17,
     "metadata": {},
     "output_type": "execute_result"
    }
   ],
   "source": [
    "#renaming columns for better analysis\n",
    "df = dfRaw.rename(columns={'Series_Title':'name', 'Released_Year':'release_y', 'Certificate':'certificate', 'Runtime':'run_time', 'Genre':'genre',\n",
    "       'IMDB_Rating':'imdb_rat', 'Meta_score':'meta_sco', 'Director':'director', 'Star1':'star_1', 'Star2':'star_2', 'Star3':'star_3',\n",
    "       'Star4':'star_4', 'No_of_Votes':'num_votes', 'Gross':'gross'})\n",
    "df.columns"
   ]
  },
  {
   "cell_type": "code",
   "execution_count": 18,
   "id": "c47dd712",
   "metadata": {},
   "outputs": [
    {
     "data": {
      "text/plain": [
       "name             0\n",
       "release_y        0\n",
       "certificate    101\n",
       "run_time         0\n",
       "genre            0\n",
       "imdb_rat         0\n",
       "meta_sco       157\n",
       "director         0\n",
       "star_1           0\n",
       "star_2           0\n",
       "star_3           0\n",
       "star_4           0\n",
       "num_votes        0\n",
       "gross          169\n",
       "dtype: int64"
      ]
     },
     "execution_count": 18,
     "metadata": {},
     "output_type": "execute_result"
    }
   ],
   "source": [
    "#Finding missing values\n",
    "df.isna().sum()"
   ]
  },
  {
   "cell_type": "code",
   "execution_count": 19,
   "id": "858f97fb",
   "metadata": {},
   "outputs": [
    {
     "data": {
      "text/plain": [
       "Index(['name', 'release_y', 'certificate', 'run_time', 'genre', 'imdb_rat',\n",
       "       'meta_sco', 'director', 'star_1', 'star_2', 'star_3', 'star_4',\n",
       "       'num_votes', 'gross', 'genre_1', 'genre_2', 'genre_3'],\n",
       "      dtype='object')"
      ]
     },
     "execution_count": 19,
     "metadata": {},
     "output_type": "execute_result"
    }
   ],
   "source": [
    "#The column 'genre' contains up to three genre names\n",
    "#We will split this column for better use\n",
    "df[['genre_1','genre_2','genre_3']] = df['genre'].str.split(pat=',',expand=True)\n",
    "df.columns"
   ]
  },
  {
   "cell_type": "code",
   "execution_count": 21,
   "id": "ba4334be",
   "metadata": {},
   "outputs": [],
   "source": [
    "import numpy as np\n",
    "import scipy as sc\n",
    "import matplotlib.pylab as plt\n",
    "import seaborn as sea"
   ]
  },
  {
   "cell_type": "code",
   "execution_count": 34,
   "id": "1200b080",
   "metadata": {},
   "outputs": [
    {
     "data": {
      "image/png": "[encoded data removed]",
      "text/plain": [
       "<Figure size 720x216 with 1 Axes>"
      ]
     },
     "metadata": {
      "needs_background": "light"
     },
     "output_type": "display_data"
    }
   ],
   "source": [
    "#Release Year:\n",
    "year_plt = df['release_y'].value_counts().sort_index().plot(kind='bar', title='Titles per Year')\n",
    "year_plt.set_ylabel('Number of Titles')\n",
    "plt.locator_params(axis='x', nbins=40)\n",
    "plt.show()"
   ]
  },
  {
   "cell_type": "code",
   "execution_count": 23,
   "id": "f7e362d1",
   "metadata": {},
   "outputs": [
    {
     "data": {
      "image/png": "[encoded data removed]",
      "text/plain": [
       "<Figure size 432x288 with 1 Axes>"
      ]
     },
     "metadata": {
      "needs_background": "light"
     },
     "output_type": "display_data"
    }
   ],
   "source": [
    "#We assume that the first entry in the genre row is the main genre of the repective title\n",
    "genr_plt = df['genre_1'].value_counts().plot(kind='bar', title='Main Genre')\n",
    "genr_plt.set_ylabel('Number of Titles')\n",
    "plt.show()"
   ]
  },
  {
   "cell_type": "code",
   "execution_count": 24,
   "id": "6bc1c84f",
   "metadata": {},
   "outputs": [
    {
     "data": {
      "image/png": "[encoded data removed]",
      "text/plain": [
       "<Figure size 432x288 with 1 Axes>"
      ]
     },
     "metadata": {
      "needs_background": "light"
     },
     "output_type": "display_data"
    }
   ],
   "source": [
    "#IMDB Rating\n",
    "imdb_plt = df['imdb_rat'].plot(kind='hist', bins=10, rwidth=0.9, title='IMDB Rating')\n",
    "imdb_plt.set_ylabel('Number of Titles')\n",
    "imdb_plt.set_xlabel('Rating')\n",
    "plt.show()"
   ]
  },
  {
   "cell_type": "code",
   "execution_count": 25,
   "id": "c77c8994",
   "metadata": {},
   "outputs": [
    {
     "data": {
      "image/png": "[encoded data removed]",
      "text/plain": [
       "<Figure size 432x288 with 1 Axes>"
      ]
     },
     "metadata": {
      "needs_background": "light"
     },
     "output_type": "display_data"
    }
   ],
   "source": [
    "#Top 25 directors \n",
    "#Directors with maximum movies\n",
    "dir_plt = df['director'].value_counts().head(25).plot(kind='bar', title='Top 25 Directors')\n",
    "dir_plt.set_ylabel('Number of Titles')\n",
    "plt.rcParams[\"figure.figsize\"] = (9,3)\n",
    "plt.show()"
   ]
  },
  {
   "cell_type": "code",
   "execution_count": 26,
   "id": "a3c03b77",
   "metadata": {},
   "outputs": [
    {
     "data": {
      "text/plain": [
       "count          830.000000\n",
       "mean      67907277.160241\n",
       "std      109754644.359044\n",
       "min           1305.000000\n",
       "25%        3245338.500000\n",
       "50%       23457439.500000\n",
       "75%       80103240.750000\n",
       "max      936662225.000000\n",
       "Name: gross, dtype: object"
      ]
     },
     "execution_count": 26,
     "metadata": {},
     "output_type": "execute_result"
    }
   ],
   "source": [
    "#To be able to analyse the distribution of income, we have to drop titles with no information on income and convert \n",
    "#the data type of the 'gross' column to integer\n",
    "df_noNA_gross = df[~df['gross'].isna()].reset_index(drop=True)\n",
    "df_noNA_gross['gross']=df_noNA_gross['gross'].str.replace(',','')\n",
    "df_noNA_gross = df_noNA_gross[df_noNA_gross['gross'].str.isnumeric()]\n",
    "df_noNA_gross['gross'] = df_noNA_gross['gross'].astype(int)\n",
    "\n",
    "df_noNA_gross['gross'].describe().apply(lambda x: format(x, 'f'))"
   ]
  },
  {
   "cell_type": "code",
   "execution_count": 27,
   "id": "8308a2b2",
   "metadata": {},
   "outputs": [
    {
     "data": {
      "image/png": "[encoded data removed]",
      "text/plain": [
       "<Figure size 648x216 with 1 Axes>"
      ]
     },
     "metadata": {
      "needs_background": "light"
     },
     "output_type": "display_data"
    }
   ],
   "source": [
    "gro_plt = df_noNA_gross['gross'].plot(kind='hist', bins=20, title='Distribution of gross income')\n",
    "gro_plt.ticklabel_format(useOffset=False, style='plain')\n",
    "gro_plt.set_ylabel('Number of titles')\n",
    "gro_plt.set_xlabel('Dollar')\n",
    "plt.rcParams[\"figure.figsize\"] = (10,3)\n",
    "plt.show()"
   ]
  },
  {
   "cell_type": "code",
   "execution_count": 38,
   "id": "3905a567",
   "metadata": {},
   "outputs": [
    {
     "name": "stdout",
     "output_type": "stream",
     "text": [
      "Top 10 highest gross income movies:\n",
      "\n"
     ]
    },
    {
     "data": {
      "text/html": [
       "<div>\n",
       "<style scoped>\n",
       "    .dataframe tbody tr th:only-of-type {\n",
       "        vertical-align: middle;\n",
       "    }\n",
       "\n",
       "    .dataframe tbody tr th {\n",
       "        vertical-align: top;\n",
       "    }\n",
       "\n",
       "    .dataframe thead th {\n",
       "        text-align: right;\n",
       "    }\n",
       "</style>\n",
       "<table border=\"1\" class=\"dataframe\">\n",
       "  <thead>\n",
       "    <tr style=\"text-align: right;\">\n",
       "      <th></th>\n",
       "      <th>name</th>\n",
       "      <th>release_y</th>\n",
       "      <th>certificate</th>\n",
       "      <th>run_time</th>\n",
       "      <th>genre</th>\n",
       "      <th>imdb_rat</th>\n",
       "      <th>meta_sco</th>\n",
       "      <th>director</th>\n",
       "      <th>star_1</th>\n",
       "      <th>star_2</th>\n",
       "      <th>star_3</th>\n",
       "      <th>star_4</th>\n",
       "      <th>num_votes</th>\n",
       "      <th>gross</th>\n",
       "      <th>genre_1</th>\n",
       "      <th>genre_2</th>\n",
       "      <th>genre_3</th>\n",
       "    </tr>\n",
       "  </thead>\n",
       "  <tbody>\n",
       "    <tr>\n",
       "      <th>106</th>\n",
       "      <td>Star Wars: Episode VII - The Force Awakens</td>\n",
       "      <td>2015</td>\n",
       "      <td>U</td>\n",
       "      <td>138</td>\n",
       "      <td>Action, Adventure, Sci-Fi</td>\n",
       "      <td>7.9</td>\n",
       "      <td>80.0</td>\n",
       "      <td>J.J. Abrams</td>\n",
       "      <td>Daisy Ridley</td>\n",
       "      <td>John Boyega</td>\n",
       "      <td>Oscar Isaac</td>\n",
       "      <td>Domhnall Gleeson</td>\n",
       "      <td>860823</td>\n",
       "      <td>936662225</td>\n",
       "      <td>Action</td>\n",
       "      <td>Adventure</td>\n",
       "      <td>Sci-Fi</td>\n",
       "    </tr>\n",
       "    <tr>\n",
       "      <th>25</th>\n",
       "      <td>Avengers: Endgame</td>\n",
       "      <td>2019</td>\n",
       "      <td>UA</td>\n",
       "      <td>181</td>\n",
       "      <td>Action, Adventure, Drama</td>\n",
       "      <td>8.4</td>\n",
       "      <td>78.0</td>\n",
       "      <td>Anthony Russo</td>\n",
       "      <td>Joe Russo</td>\n",
       "      <td>Robert Downey Jr.</td>\n",
       "      <td>Chris Evans</td>\n",
       "      <td>Mark Ruffalo</td>\n",
       "      <td>809955</td>\n",
       "      <td>858373000</td>\n",
       "      <td>Action</td>\n",
       "      <td>Adventure</td>\n",
       "      <td>Drama</td>\n",
       "    </tr>\n",
       "    <tr>\n",
       "      <th>134</th>\n",
       "      <td>Avatar</td>\n",
       "      <td>2009</td>\n",
       "      <td>UA</td>\n",
       "      <td>162</td>\n",
       "      <td>Action, Adventure, Fantasy</td>\n",
       "      <td>7.8</td>\n",
       "      <td>83.0</td>\n",
       "      <td>James Cameron</td>\n",
       "      <td>Sam Worthington</td>\n",
       "      <td>Zoe Saldana</td>\n",
       "      <td>Sigourney Weaver</td>\n",
       "      <td>Michelle Rodriguez</td>\n",
       "      <td>1118998</td>\n",
       "      <td>760507625</td>\n",
       "      <td>Action</td>\n",
       "      <td>Adventure</td>\n",
       "      <td>Fantasy</td>\n",
       "    </tr>\n",
       "    <tr>\n",
       "      <th>26</th>\n",
       "      <td>Avengers: Infinity War</td>\n",
       "      <td>2018</td>\n",
       "      <td>UA</td>\n",
       "      <td>149</td>\n",
       "      <td>Action, Adventure, Sci-Fi</td>\n",
       "      <td>8.4</td>\n",
       "      <td>68.0</td>\n",
       "      <td>Anthony Russo</td>\n",
       "      <td>Joe Russo</td>\n",
       "      <td>Robert Downey Jr.</td>\n",
       "      <td>Chris Hemsworth</td>\n",
       "      <td>Mark Ruffalo</td>\n",
       "      <td>834477</td>\n",
       "      <td>678815482</td>\n",
       "      <td>Action</td>\n",
       "      <td>Adventure</td>\n",
       "      <td>Sci-Fi</td>\n",
       "    </tr>\n",
       "    <tr>\n",
       "      <th>142</th>\n",
       "      <td>Titanic</td>\n",
       "      <td>1997</td>\n",
       "      <td>UA</td>\n",
       "      <td>194</td>\n",
       "      <td>Drama, Romance</td>\n",
       "      <td>7.8</td>\n",
       "      <td>75.0</td>\n",
       "      <td>James Cameron</td>\n",
       "      <td>Leonardo DiCaprio</td>\n",
       "      <td>Kate Winslet</td>\n",
       "      <td>Billy Zane</td>\n",
       "      <td>Kathy Bates</td>\n",
       "      <td>1046089</td>\n",
       "      <td>659325379</td>\n",
       "      <td>Drama</td>\n",
       "      <td>Romance</td>\n",
       "      <td>None</td>\n",
       "    </tr>\n",
       "    <tr>\n",
       "      <th>84</th>\n",
       "      <td>The Avengers</td>\n",
       "      <td>2012</td>\n",
       "      <td>UA</td>\n",
       "      <td>143</td>\n",
       "      <td>Action, Adventure, Sci-Fi</td>\n",
       "      <td>8.0</td>\n",
       "      <td>69.0</td>\n",
       "      <td>Joss Whedon</td>\n",
       "      <td>Robert Downey Jr.</td>\n",
       "      <td>Chris Evans</td>\n",
       "      <td>Scarlett Johansson</td>\n",
       "      <td>Jeremy Renner</td>\n",
       "      <td>1260806</td>\n",
       "      <td>623279547</td>\n",
       "      <td>Action</td>\n",
       "      <td>Adventure</td>\n",
       "      <td>Sci-Fi</td>\n",
       "    </tr>\n",
       "    <tr>\n",
       "      <th>184</th>\n",
       "      <td>Incredibles 2</td>\n",
       "      <td>2018</td>\n",
       "      <td>UA</td>\n",
       "      <td>118</td>\n",
       "      <td>Animation, Action, Adventure</td>\n",
       "      <td>7.6</td>\n",
       "      <td>80.0</td>\n",
       "      <td>Brad Bird</td>\n",
       "      <td>Craig T. Nelson</td>\n",
       "      <td>Holly Hunter</td>\n",
       "      <td>Sarah Vowell</td>\n",
       "      <td>Huck Milner</td>\n",
       "      <td>250057</td>\n",
       "      <td>608581744</td>\n",
       "      <td>Animation</td>\n",
       "      <td>Action</td>\n",
       "      <td>Adventure</td>\n",
       "    </tr>\n",
       "    <tr>\n",
       "      <th>1</th>\n",
       "      <td>The Dark Knight</td>\n",
       "      <td>2008</td>\n",
       "      <td>UA</td>\n",
       "      <td>152</td>\n",
       "      <td>Action, Crime, Drama</td>\n",
       "      <td>9.0</td>\n",
       "      <td>84.0</td>\n",
       "      <td>Christopher Nolan</td>\n",
       "      <td>Christian Bale</td>\n",
       "      <td>Heath Ledger</td>\n",
       "      <td>Aaron Eckhart</td>\n",
       "      <td>Michael Caine</td>\n",
       "      <td>2303232</td>\n",
       "      <td>534858444</td>\n",
       "      <td>Action</td>\n",
       "      <td>Crime</td>\n",
       "      <td>Drama</td>\n",
       "    </tr>\n",
       "    <tr>\n",
       "      <th>120</th>\n",
       "      <td>Rogue One</td>\n",
       "      <td>2016</td>\n",
       "      <td>UA</td>\n",
       "      <td>133</td>\n",
       "      <td>Action, Adventure, Sci-Fi</td>\n",
       "      <td>7.8</td>\n",
       "      <td>65.0</td>\n",
       "      <td>Gareth Edwards</td>\n",
       "      <td>Felicity Jones</td>\n",
       "      <td>Diego Luna</td>\n",
       "      <td>Alan Tudyk</td>\n",
       "      <td>Donnie Yen</td>\n",
       "      <td>556608</td>\n",
       "      <td>532177324</td>\n",
       "      <td>Action</td>\n",
       "      <td>Adventure</td>\n",
       "      <td>Sci-Fi</td>\n",
       "    </tr>\n",
       "    <tr>\n",
       "      <th>29</th>\n",
       "      <td>The Dark Knight Rises</td>\n",
       "      <td>2012</td>\n",
       "      <td>UA</td>\n",
       "      <td>164</td>\n",
       "      <td>Action, Adventure</td>\n",
       "      <td>8.4</td>\n",
       "      <td>78.0</td>\n",
       "      <td>Christopher Nolan</td>\n",
       "      <td>Christian Bale</td>\n",
       "      <td>Tom Hardy</td>\n",
       "      <td>Anne Hathaway</td>\n",
       "      <td>Gary Oldman</td>\n",
       "      <td>1516346</td>\n",
       "      <td>448139099</td>\n",
       "      <td>Action</td>\n",
       "      <td>Adventure</td>\n",
       "      <td>None</td>\n",
       "    </tr>\n",
       "  </tbody>\n",
       "</table>\n",
       "</div>"
      ],
      "text/plain": [
       "                                           name  release_y certificate  \\\n",
       "106  Star Wars: Episode VII - The Force Awakens       2015           U   \n",
       "25                            Avengers: Endgame       2019          UA   \n",
       "134                                      Avatar       2009          UA   \n",
       "26                       Avengers: Infinity War       2018          UA   \n",
       "142                                     Titanic       1997          UA   \n",
       "84                                 The Avengers       2012          UA   \n",
       "184                               Incredibles 2       2018          UA   \n",
       "1                               The Dark Knight       2008          UA   \n",
       "120                                   Rogue One       2016          UA   \n",
       "29                        The Dark Knight Rises       2012          UA   \n",
       "\n",
       "     run_time                         genre  imdb_rat  meta_sco  \\\n",
       "106       138     Action, Adventure, Sci-Fi       7.9      80.0   \n",
       "25        181      Action, Adventure, Drama       8.4      78.0   \n",
       "134       162    Action, Adventure, Fantasy       7.8      83.0   \n",
       "26        149     Action, Adventure, Sci-Fi       8.4      68.0   \n",
       "142       194                Drama, Romance       7.8      75.0   \n",
       "84        143     Action, Adventure, Sci-Fi       8.0      69.0   \n",
       "184       118  Animation, Action, Adventure       7.6      80.0   \n",
       "1         152          Action, Crime, Drama       9.0      84.0   \n",
       "120       133     Action, Adventure, Sci-Fi       7.8      65.0   \n",
       "29        164             Action, Adventure       8.4      78.0   \n",
       "\n",
       "              director             star_1             star_2  \\\n",
       "106        J.J. Abrams       Daisy Ridley        John Boyega   \n",
       "25       Anthony Russo          Joe Russo  Robert Downey Jr.   \n",
       "134      James Cameron    Sam Worthington        Zoe Saldana   \n",
       "26       Anthony Russo          Joe Russo  Robert Downey Jr.   \n",
       "142      James Cameron  Leonardo DiCaprio       Kate Winslet   \n",
       "84         Joss Whedon  Robert Downey Jr.        Chris Evans   \n",
       "184          Brad Bird    Craig T. Nelson       Holly Hunter   \n",
       "1    Christopher Nolan     Christian Bale       Heath Ledger   \n",
       "120     Gareth Edwards     Felicity Jones         Diego Luna   \n",
       "29   Christopher Nolan     Christian Bale          Tom Hardy   \n",
       "\n",
       "                 star_3              star_4  num_votes      gross    genre_1  \\\n",
       "106         Oscar Isaac    Domhnall Gleeson     860823  936662225     Action   \n",
       "25          Chris Evans        Mark Ruffalo     809955  858373000     Action   \n",
       "134    Sigourney Weaver  Michelle Rodriguez    1118998  760507625     Action   \n",
       "26      Chris Hemsworth        Mark Ruffalo     834477  678815482     Action   \n",
       "142          Billy Zane         Kathy Bates    1046089  659325379      Drama   \n",
       "84   Scarlett Johansson       Jeremy Renner    1260806  623279547     Action   \n",
       "184        Sarah Vowell         Huck Milner     250057  608581744  Animation   \n",
       "1         Aaron Eckhart       Michael Caine    2303232  534858444     Action   \n",
       "120          Alan Tudyk          Donnie Yen     556608  532177324     Action   \n",
       "29        Anne Hathaway         Gary Oldman    1516346  448139099     Action   \n",
       "\n",
       "        genre_2     genre_3  \n",
       "106   Adventure      Sci-Fi  \n",
       "25    Adventure       Drama  \n",
       "134   Adventure     Fantasy  \n",
       "26    Adventure      Sci-Fi  \n",
       "142     Romance        None  \n",
       "84    Adventure      Sci-Fi  \n",
       "184      Action   Adventure  \n",
       "1         Crime       Drama  \n",
       "120   Adventure      Sci-Fi  \n",
       "29    Adventure        None  "
      ]
     },
     "execution_count": 38,
     "metadata": {},
     "output_type": "execute_result"
    }
   ],
   "source": [
    "#Lets look at a subset of our data consisting of the highest grossing titles (75% Quartil). \n",
    "df_highst_gross = df_noNA_gross.query('gross > 80_000_000').reset_index(drop=True)\n",
    "df_highst_gross = df_highst_gross.sort_values(by=['gross'], ascending = False)\n",
    "print(\"Top 10 highest gross income movies:\\n\")\n",
    "df_highst_gross.head(10)"
   ]
  },
  {
   "cell_type": "code",
   "execution_count": null,
   "id": "1d668d10",
   "metadata": {},
   "outputs": [],
   "source": []
  }
 ],
 "metadata": {
  "kernelspec": {
   "display_name": "Python 3 (ipykernel)",
   "language": "python",
   "name": "python3"
  },
  "language_info": {
   "codemirror_mode": {
    "name": "ipython",
    "version": 3
   },
   "file_extension": ".py",
   "mimetype": "text/x-python",
   "name": "python",
   "nbconvert_exporter": "python",
   "pygments_lexer": "ipython3",
   "version": "3.9.12"
  }
 },
 "nbformat": 4,
 "nbformat_minor": 5
}
